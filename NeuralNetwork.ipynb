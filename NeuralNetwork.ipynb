{
  "nbformat": 4,
  "nbformat_minor": 0,
  "metadata": {
    "colab": {
      "name": "NeuralNetwork.ipynb",
      "provenance": [],
      "collapsed_sections": [],
      "authorship_tag": "ABX9TyPaEdkxat6RRoBxzpB0MG/I",
      "include_colab_link": true
    },
    "kernelspec": {
      "name": "python3",
      "display_name": "Python 3"
    }
  },
  "cells": [
    {
      "cell_type": "markdown",
      "metadata": {
        "id": "view-in-github",
        "colab_type": "text"
      },
      "source": [
        "<a href=\"https://colab.research.google.com/github/WexyR/IML_Terminator/blob/main/NeuralNetwork.ipynb\" target=\"_parent\"><img src=\"https://colab.research.google.com/assets/colab-badge.svg\" alt=\"Open In Colab\"/></a>"
      ]
    },
    {
      "cell_type": "markdown",
      "metadata": {
        "id": "9wScKMiBMNZy"
      },
      "source": [
        ""
      ]
    },
    {
      "cell_type": "markdown",
      "metadata": {
        "id": "Gcs1wp6sNOJb"
      },
      "source": [
        "Notebook info"
      ]
    },
    {
      "cell_type": "code",
      "metadata": {
        "id": "QVZq117cMRfA",
        "outputId": "c8eb7e9c-be80-45ce-9595-6525b011c99f",
        "colab": {
          "base_uri": "https://localhost:8080/"
        }
      },
      "source": [
        "import tensorflow as tf\n",
        "import keras\n",
        "\n",
        "#from tensorflow.keras import layers\n",
        "from keras.layers import *\n",
        "from keras import Model, Sequential\n",
        "from sklearn.model_selection import train_test_split\n",
        "from sklearn.metrics import accuracy_score\n",
        "\n",
        "# Helper libraries\n",
        "import numpy as np\n",
        "import matplotlib.pyplot as plt\n",
        "import collections\n",
        "\n",
        "#network\n",
        "import requests, io\n",
        "\n",
        "print(tf.__version__)\n",
        "print(keras.__version__)"
      ],
      "execution_count": null,
      "outputs": [
        {
          "output_type": "stream",
          "text": [
            "2.3.0\n",
            "2.4.3\n"
          ],
          "name": "stdout"
        }
      ]
    },
    {
      "cell_type": "code",
      "metadata": {
        "id": "OoVmKJ0iszWn"
      },
      "source": [
        "r = requests.get(\"https://github.com/WexyR/IML_Terminator/blob/main/resources/datasets/sample_dataset_0-4999.npz?raw=true\") \n",
        "bytecontent1 = io.BytesIO(r.content)\n",
        "r = requests.get(\"https://github.com/WexyR/IML_Terminator/blob/main/resources/datasets/sample_dataset_5000-9999.npz?raw=true\") \n",
        "bytecontent2 = io.BytesIO(r.content)\n",
        "dataset1 = np.load(bytecontent1)\n",
        "dataset2 = np.load(bytecontent2)"
      ],
      "execution_count": null,
      "outputs": []
    },
    {
      "cell_type": "code",
      "metadata": {
        "id": "DBj_Y_3fObSp",
        "outputId": "c86512c9-6198-4e6f-9413-406162b7a27c",
        "colab": {
          "base_uri": "https://localhost:8080/",
          "height": 406
        }
      },
      "source": [
        "X = np.asarray(list(zip(dataset1['img'], dataset1['sensors'])) + list(zip(dataset2['img'], dataset2['sensors'])))\n",
        "# print(X.shape, X[0][0].shape, X[0][1].shape)\n",
        "y = np.asarray(list(dataset1['class_id']) + list(dataset2['class_id']))\n",
        "\n",
        "\n",
        "\n",
        "image_shape = X[0][0].shape\n",
        "sensors_shape = X[0][1].shape\n",
        "class_names = dataset[\"labels\"]\n",
        "class_outputs = class_names.size\n",
        "ELEMENT_NTH = 64\n",
        "plt.imshow(X[ELEMENT_NTH][0])\n",
        "plt.show()\n",
        "print(f\"{ELEMENT_NTH}th element of the database is:\\nsensors:{X[ELEMENT_NTH][1]}\\ny: {y[ELEMENT_NTH]}\\n\"\n",
        "      f\"Labels are : {class_names}\")\n",
        "print(f\"there are {len(y)} data\")"
      ],
      "execution_count": null,
      "outputs": [
        {
          "output_type": "display_data",
          "data": {
            "image/png": "[encoded data removed]",
            "text/plain": [
              "<Figure size 432x288 with 1 Axes>"
            ]
          },
          "metadata": {
            "tags": [],
            "needs_background": "light"
          }
        },
        {
          "output_type": "stream",
          "text": [
            "64th element of the database is:\n",
            "sensors:[0.7026 0.6865 0.675  0.8716 3.     3.     3.     3.     3.     3.\n",
            " 3.     3.     3.     3.     3.    ]\n",
            "y: 7\n",
            "Labels are : ['MAROON' 'RED' 'ORANGE' 'YELLOW' 'OLIVE' 'GREEN' 'PURPLE' 'FUSHIA' 'LIME'\n",
            " 'TEAL' 'AQUA' 'BLUE' 'NAVY' 'BLACK' 'GRAY' 'SILVER' 'WHITE']\n",
            "there are 10000 data\n"
          ],
          "name": "stdout"
        }
      ]
    },
    {
      "cell_type": "code",
      "metadata": {
        "id": "3pL-cyp19My6"
      },
      "source": [
        "#IML utils\n",
        "\n",
        "def balance_data(X, y):\n",
        "    c = collections.Counter(y)\n",
        "    mini = min(c.values())\n",
        "    print(mini)\n",
        "    d = collections.defaultdict(lambda:0)\n",
        "    outX, outy = list(), list()\n",
        "    for inX, iny in zip(X, y):\n",
        "        if(d[iny]<mini):\n",
        "            outX.append(inX)\n",
        "            outy.append(iny)\n",
        "            d[iny]+=1\n",
        "    return outX, outy\n",
        "\n",
        "def data_split(X, y, ratio, **kwargs):\n",
        "    \"\"\"Split a dataset (X, inputs), (y, outputs) following the ratio parameter with a shuffle\n",
        "    it uses the train_test_split function which can receive parameters\n",
        "        (but train_size and test_size) through **kwargs\n",
        "    \"\"\"\n",
        "    if(not isinstance(ratio, collections.abc.Iterable)):\n",
        "        ratio=[ratio]\n",
        "    else:\n",
        "        ratio=list(ratio)\n",
        "    assert len(ratio)>=1\n",
        "    assert \"train_size\" not in kwargs\n",
        "    assert \"test_size\" not in kwargs\n",
        "    while sum(ratio) >= 1:\n",
        "        ratio.pop()\n",
        "    if(len(ratio)==1):\n",
        "        X_train, X_test, y_train, y_test = train_test_split(X, y, train_size=ratio[0], **kwargs)\n",
        "        return [(np.asarray(X_train), np.asarray(y_train))] + [(np.asarray(X_test), np.array(y_test))]\n",
        "    else:\n",
        "        current_ratio = ratio.pop(0)\n",
        "        ratio = [p/(1-current_ratio) for p in ratio]\n",
        "        X_train, X_test, y_train, y_test = train_test_split(X, y, train_size=current_ratio, **kwargs)\n",
        "        return [(np.asarray(X_train), np.asarray(y_train))] + data_split(X_test, y_test, ratio, **kwargs)"
      ],
      "execution_count": null,
      "outputs": []
    },
    {
      "cell_type": "code",
      "metadata": {
        "id": "8SmVdhCUAAr9",
        "outputId": "b7d83085-27e6-4fc1-eb06-46a64a21d095",
        "colab": {
          "base_uri": "https://localhost:8080/"
        }
      },
      "source": [
        "# X, y = balance_data(X, y)\n",
        "# print(len(y))\n",
        "trainset, validset, testset = data_split(X, y, ratio=(0.4, 0.3, 0.3))\n",
        "# trainset[0][0]\n",
        "print(len(y))"
      ],
      "execution_count": null,
      "outputs": [
        {
          "output_type": "stream",
          "text": [
            "10000\n"
          ],
          "name": "stdout"
        }
      ]
    },
    {
      "cell_type": "code",
      "metadata": {
        "id": "3H3t9fqDhMZQ",
        "outputId": "0f0b0a7d-8772-470b-f0b5-6bfdf4da7c53",
        "colab": {
          "base_uri": "https://localhost:8080/"
        }
      },
      "source": [
        "s_input = Input(shape=sensors_shape)\n",
        "img_input = Input(shape=image_shape)\n",
        "\n",
        "conv_img_input = Conv2D(32, 5, activation=\"relu\")(img_input)\n",
        "max_conv_img = MaxPool2D((4, 4))(conv_img_input)\n",
        "# conv_max = Conv2D(32, 5, activation=\"relu\")(max_conv_img)\n",
        "# max_conv_max = MaxPool2D((2, 2))(conv_max)\n",
        "flatten = Flatten()(max_conv_img)\n",
        "\n",
        "sensor_dense = Dense(sensors_shape[0]//2)(s_input)\n",
        "\n",
        "layer = Concatenate()([flatten, sensor_dense])\n",
        "# for hl in (512, 32):\n",
        "layer = Dense(512, activation=\"relu\")(layer)\n",
        "# layer = Dropout(0.2)(layer)\n",
        "layer = Dense(32, activation=\"relu\")(layer)\n",
        "z = Dense(class_outputs, activation=\"softmax\")(layer)\n",
        "\n",
        "cnn = Model(inputs=[img_input, s_input], outputs=z)\n",
        "\n",
        "cnn.compile(optimizer='adam',\n",
        "              loss='sparse_categorical_crossentropy',\n",
        "              metrics=['accuracy'])\n",
        "\n",
        "cnn.summary()"
      ],
      "execution_count": null,
      "outputs": [
        {
          "output_type": "stream",
          "text": [
            "Model: \"functional_101\"\n",
            "__________________________________________________________________________________________________\n",
            "Layer (type)                    Output Shape         Param #     Connected to                     \n",
            "==================================================================================================\n",
            "input_102 (InputLayer)          [(None, 60, 80, 3)]  0                                            \n",
            "__________________________________________________________________________________________________\n",
            "conv2d_65 (Conv2D)              (None, 56, 76, 32)   2432        input_102[0][0]                  \n",
            "__________________________________________________________________________________________________\n",
            "max_pooling2d_65 (MaxPooling2D) (None, 14, 19, 32)   0           conv2d_65[0][0]                  \n",
            "__________________________________________________________________________________________________\n",
            "input_101 (InputLayer)          [(None, 15)]         0                                            \n",
            "__________________________________________________________________________________________________\n",
            "flatten_50 (Flatten)            (None, 8512)         0           max_pooling2d_65[0][0]           \n",
            "__________________________________________________________________________________________________\n",
            "dense_211 (Dense)               (None, 7)            112         input_101[0][0]                  \n",
            "__________________________________________________________________________________________________\n",
            "concatenate_50 (Concatenate)    (None, 8519)         0           flatten_50[0][0]                 \n",
            "                                                                 dense_211[0][0]                  \n",
            "__________________________________________________________________________________________________\n",
            "dense_212 (Dense)               (None, 512)          4362240     concatenate_50[0][0]             \n",
            "__________________________________________________________________________________________________\n",
            "dense_213 (Dense)               (None, 32)           16416       dense_212[0][0]                  \n",
            "__________________________________________________________________________________________________\n",
            "dense_214 (Dense)               (None, 17)           561         dense_213[0][0]                  \n",
            "==================================================================================================\n",
            "Total params: 4,381,761\n",
            "Trainable params: 4,381,761\n",
            "Non-trainable params: 0\n",
            "__________________________________________________________________________________________________\n"
          ],
          "name": "stdout"
        }
      ]
    },
    {
      "cell_type": "code",
      "metadata": {
        "id": "7MnmhNGIEZdR"
      },
      "source": [
        "X_trainset_img = np.asarray(list(zip(*list(trainset[0])))[0])\n",
        "X_trainset_sensors = np.asarray(list(zip(*list(trainset[0])))[1])\n",
        "X_validset_img = np.asarray(list(zip(*list(validset[0])))[0])\n",
        "X_validset_sensors = np.asarray(list(zip(*list(validset[0])))[1])\n",
        "X_testset_img = np.asarray(list(zip(*list(testset[0])))[0])\n",
        "X_testset_sensors = np.asarray(list(zip(*list(testset[0])))[1])\n",
        "\n",
        "# print(X_trainset_img.shape)\n",
        "# print(X_trainset_sensors.shape)\n",
        "# print(X_validset_img.shape)\n",
        "# print(X_validset_sensors.shape)\n",
        "# print(X_testset_img.shape)\n",
        "# print(X_testset_sensors.shape)"
      ],
      "execution_count": null,
      "outputs": []
    },
    {
      "cell_type": "code",
      "metadata": {
        "id": "K2K8saBcTBm-",
        "outputId": "0baf0de3-b289-449e-8447-629d5a7ed6a7",
        "colab": {
          "base_uri": "https://localhost:8080/"
        }
      },
      "source": [
        "history = cnn.fit([X_trainset_img, X_trainset_sensors], \n",
        "                  trainset[1],\n",
        "                  validation_data=([X_validset_img, X_validset_sensors], validset[1]),\n",
        "                  batch_size=75,\n",
        "                    epochs=6)\n",
        "\n",
        "predictions = cnn.predict([X_testset_img, X_testset_sensors])\n",
        "cnn.evaluate([X_testset_img, X_testset_sensors],  testset[1], verbose=2)"
      ],
      "execution_count": null,
      "outputs": [
        {
          "output_type": "stream",
          "text": [
            "Epoch 1/6\n",
            "54/54 [==============================] - 18s 337ms/step - loss: 33.8116 - accuracy: 0.1647 - val_loss: 2.6043 - val_accuracy: 0.2640\n",
            "Epoch 2/6\n",
            "54/54 [==============================] - 18s 335ms/step - loss: 2.0560 - accuracy: 0.3862 - val_loss: 1.6451 - val_accuracy: 0.4600\n",
            "Epoch 3/6\n",
            "54/54 [==============================] - 18s 341ms/step - loss: 1.2800 - accuracy: 0.5585 - val_loss: 1.4641 - val_accuracy: 0.5117\n",
            "Epoch 4/6\n",
            "54/54 [==============================] - 18s 336ms/step - loss: 0.8671 - accuracy: 0.7072 - val_loss: 1.2949 - val_accuracy: 0.5860\n",
            "Epoch 5/6\n",
            "54/54 [==============================] - 18s 336ms/step - loss: 0.5544 - accuracy: 0.8190 - val_loss: 1.2886 - val_accuracy: 0.6013\n",
            "Epoch 6/6\n",
            "54/54 [==============================] - 18s 336ms/step - loss: 0.3536 - accuracy: 0.8835 - val_loss: 1.5467 - val_accuracy: 0.5803\n",
            "94/94 - 4s - loss: 1.5343 - accuracy: 0.6010\n"
          ],
          "name": "stdout"
        },
        {
          "output_type": "execute_result",
          "data": {
            "text/plain": [
              "[1.5342602729797363, 0.6010000109672546]"
            ]
          },
          "metadata": {
            "tags": []
          },
          "execution_count": 187
        }
      ]
    },
    {
      "cell_type": "code",
      "metadata": {
        "id": "FluTfFr0WuJh",
        "outputId": "826d6c30-a13a-41ce-a8d7-c75a8ff981a8",
        "colab": {
          "base_uri": "https://localhost:8080/",
          "height": 573
        }
      },
      "source": [
        "acc = history.history['accuracy']\n",
        "val_acc = history.history['val_accuracy']\n",
        "loss = history.history['loss']\n",
        "val_loss = history.history['val_loss']\n",
        "\n",
        "epochs = range(1, len(acc) + 1)\n",
        "\n",
        "\n",
        "plt.plot(epochs, loss, 'bo', label='Training loss')\n",
        "plt.plot(epochs, val_loss, 'b', label='Validation loss')\n",
        "plt.title('Training and validation loss')\n",
        "plt.xlabel('Epochs')\n",
        "plt.ylabel('Loss')\n",
        "plt.legend()\n",
        "\n",
        "plt.figure()\n",
        "\n",
        "plt.plot(epochs, acc, 'bo', label='Training acc')\n",
        "plt.plot(epochs, val_acc, 'b', label='Validation acc')\n",
        "plt.title('Training and validation accuracy')\n",
        "plt.xlabel('Epochs')\n",
        "plt.ylabel('Accuracy')\n",
        "plt.legend()\n",
        "\n",
        "plt.show()"
      ],
      "execution_count": null,
      "outputs": [
        {
          "output_type": "display_data",
          "data": {
            "image/png": "[encoded data removed]",
            "text/plain": [
              "<Figure size 432x288 with 1 Axes>"
            ]
          },
          "metadata": {
            "tags": [],
            "needs_background": "light"
          }
        },
        {
          "output_type": "display_data",
          "data": {
            "image/png": "[encoded data removed]",
            "text/plain": [
              "<Figure size 432x288 with 1 Axes>"
            ]
          },
          "metadata": {
            "tags": [],
            "needs_background": "light"
          }
        }
      ]
    },
    {
      "cell_type": "code",
      "metadata": {
        "id": "PC4EpRwkpHYZ"
      },
      "source": [
        "def plot_image(i, predictions_array, true_label, img):\n",
        "  predictions_array, true_label, img = predictions_array, true_label[i], img[i]\n",
        "  plt.grid(False)\n",
        "  plt.xticks([])\n",
        "  plt.yticks([])\n",
        "\n",
        "  plt.imshow(img[:,:,::-1])\n",
        "\n",
        "  predicted_label = np.argmax(predictions_array)\n",
        "  if predicted_label == true_label:\n",
        "    color = 'blue'\n",
        "  else:\n",
        "    color = 'red'\n",
        "\n",
        "  plt.xlabel(\"{} {:2.0f}% (True: {})\".format(class_names[predicted_label],\n",
        "                                100*np.max(predictions_array),\n",
        "                                class_names[true_label]),\n",
        "                                color=color)\n",
        "\n",
        "def plot_value_array(i, predictions_array, true_label):\n",
        "  predictions_array, true_label = predictions_array, true_label[i]\n",
        "  plt.grid(False)\n",
        "  plt.xticks(range(class_outputs))\n",
        "  plt.yticks([])\n",
        "  thisplot = plt.bar(range(class_outputs), predictions_array, color=\"#777777\")\n",
        "  plt.ylim([0, 1])\n",
        "  predicted_label = np.argmax(predictions_array)\n",
        "\n",
        "  thisplot[predicted_label].set_color('red')\n",
        "  thisplot[true_label].set_color('blue')"
      ],
      "execution_count": null,
      "outputs": []
    },
    {
      "cell_type": "code",
      "metadata": {
        "id": "zluZgWHfpL5p",
        "outputId": "697efe26-de75-4794-821d-2020b923cc58",
        "colab": {
          "base_uri": "https://localhost:8080/",
          "height": 211
        }
      },
      "source": [
        "i += 1\n",
        "plt.figure(figsize=(8,3))\n",
        "plt.subplot(1,2,1)\n",
        "plot_image(i, predictions[i], testset[1], X_testset_img)\n",
        "plt.subplot(1,2,2)\n",
        "plot_value_array(i, predictions[i],  testset[1])\n",
        "plt.show()"
      ],
      "execution_count": null,
      "outputs": [
        {
          "output_type": "display_data",
          "data": {
            "image/png": "[encoded data removed]",
            "text/plain": [
              "<Figure size 576x216 with 2 Axes>"
            ]
          },
          "metadata": {
            "tags": [],
            "needs_background": "light"
          }
        }
      ]
    }
  ]
}