{
  "nbformat": 4,
  "nbformat_minor": 0,
  "metadata": {
    "colab": {
      "name": "NeuralNetwork.ipynb",
      "provenance": [],
      "collapsed_sections": [],
      "authorship_tag": "ABX9TyM522bYMrcFTF0QT36mga6s",
      "include_colab_link": true
    },
    "kernelspec": {
      "name": "python3",
      "display_name": "Python 3"
    }
  },
  "cells": [
    {
      "cell_type": "markdown",
      "metadata": {
        "id": "view-in-github",
        "colab_type": "text"
      },
      "source": [
        "<a href=\"https://colab.research.google.com/github/WexyR/IML_Terminator/blob/main/NeuralNetwork.ipynb\" target=\"_parent\"><img src=\"https://colab.research.google.com/assets/colab-badge.svg\" alt=\"Open In Colab\"/></a>"
      ]
    },
    {
      "cell_type": "markdown",
      "metadata": {
        "id": "9wScKMiBMNZy"
      },
      "source": [
        ""
      ]
    },
    {
      "cell_type": "markdown",
      "metadata": {
        "id": "Gcs1wp6sNOJb"
      },
      "source": [
        "Notebook info"
      ]
    },
    {
      "cell_type": "code",
      "metadata": {
        "id": "QVZq117cMRfA",
        "outputId": "a2348679-c6ca-420b-8c07-5f8552c98307",
        "colab": {
          "base_uri": "https://localhost:8080/"
        }
      },
      "source": [
        "import tensorflow as tf\n",
        "import keras\n",
        "\n",
        "#from tensorflow.keras import layers\n",
        "from keras.layers import *\n",
        "from keras import Model, Sequential\n",
        "from sklearn.model_selection import train_test_split\n",
        "from sklearn.metrics import accuracy_score\n",
        "\n",
        "# Helper libraries\n",
        "import numpy as np\n",
        "import matplotlib.pyplot as plt\n",
        "import collections\n",
        "\n",
        "#network\n",
        "import requests, io\n",
        "\n",
        "print(tf.__version__)\n",
        "print(keras.__version__)"
      ],
      "execution_count": 101,
      "outputs": [
        {
          "output_type": "stream",
          "text": [
            "2.3.0\n",
            "2.4.3\n"
          ],
          "name": "stdout"
        }
      ]
    },
    {
      "cell_type": "code",
      "metadata": {
        "id": "OoVmKJ0iszWn"
      },
      "source": [
        "URLs = [\"https://github.com/WexyR/IML_Terminator/blob/main/resources/datasets/dataset_0-1999.npz?raw=true\",\n",
        "        \"https://github.com/WexyR/IML_Terminator/blob/main/resources/datasets/dataset_2000-3999.npz?raw=true\",\n",
        "        \"https://github.com/WexyR/IML_Terminator/blob/main/resources/datasets/dataset_4000-5999.npz?raw=true\",\n",
        "        \"https://github.com/WexyR/IML_Terminator/blob/main/resources/datasets/dataset_6000-7999.npz?raw=true\",\n",
        "        \"https://github.com/WexyR/IML_Terminator/blob/main/resources/datasets/dataset_8000-9999.npz?raw=true\"\n",
        "        ]\n",
        "\n",
        "datasets = []\n",
        "for url in URLs:\n",
        "  r = requests.get(url) \n",
        "  bytecontent = io.BytesIO(r.content)\n",
        "  datasets.append(np.load(bytecontent))"
      ],
      "execution_count": 102,
      "outputs": []
    },
    {
      "cell_type": "code",
      "metadata": {
        "id": "wfjmu0yFxyZp"
      },
      "source": [
        "X = np.concatenate([np.asarray(list(zip(dataset['img'], dataset['sensors']))) for dataset in datasets])\n",
        "y = np.concatenate([np.asarray(list(dataset['class_id'])) for dataset in datasets])"
      ],
      "execution_count": 104,
      "outputs": []
    },
    {
      "cell_type": "code",
      "metadata": {
        "id": "DBj_Y_3fObSp",
        "outputId": "c97f711c-b632-4eab-a8df-22f2956b2f5a",
        "colab": {
          "base_uri": "https://localhost:8080/",
          "height": 369
        }
      },
      "source": [
        "image_shape = X[0][0].shape\n",
        "sensors_shape = X[0][1].shape\n",
        "class_names = datasets[0][\"labels\"]\n",
        "class_outputs = class_names.size\n",
        "ELEMENT_NTH = 64\n",
        "plt.imshow(X[ELEMENT_NTH][0])\n",
        "plt.show()\n",
        "print(f\"{ELEMENT_NTH}th element of the database is:\\nsensors:{X[ELEMENT_NTH][1]}\\ny: {y[ELEMENT_NTH]}\\n\"\n",
        "      f\"Labels are : {class_names}\")\n",
        "print(f\"there are {len(y)} data\")"
      ],
      "execution_count": 105,
      "outputs": [
        {
          "output_type": "display_data",
          "data": {
            "image/png": "[encoded data removed]",
            "text/plain": [
              "<Figure size 432x288 with 1 Axes>"
            ]
          },
          "metadata": {
            "tags": [],
            "needs_background": "light"
          }
        },
        {
          "output_type": "stream",
          "text": [
            "64th element of the database is:\n",
            "sensors:[0.3845 0.3743 0.3662 0.3806 0.5854 3.     3.     3.     3.     3.\n",
            " 3.     3.     3.     3.     3.    ]\n",
            "y: 1\n",
            "Labels are : ['BLACK' 'RED' 'GREEN' 'YELLOW' 'BLUE' 'MAGENTA' 'CYAN' 'WHITE']\n",
            "there are 10000 data\n"
          ],
          "name": "stdout"
        }
      ]
    },
    {
      "cell_type": "code",
      "metadata": {
        "id": "3pL-cyp19My6"
      },
      "source": [
        "#IML utils\n",
        "\n",
        "def balance_data(X, y):\n",
        "    c = collections.Counter(y)\n",
        "    mini = min(c.values())\n",
        "    print(mini)\n",
        "    d = collections.defaultdict(lambda:0)\n",
        "    outX, outy = list(), list()\n",
        "    for inX, iny in zip(X, y):\n",
        "        if(d[iny]<mini):\n",
        "            outX.append(inX)\n",
        "            outy.append(iny)\n",
        "            d[iny]+=1\n",
        "    return outX, outy\n",
        "\n",
        "def data_split(X, y, ratio, **kwargs):\n",
        "    \"\"\"Split a dataset (X, inputs), (y, outputs) following the ratio parameter with a shuffle\n",
        "    it uses the train_test_split function which can receive parameters\n",
        "        (but train_size and test_size) through **kwargs\n",
        "    \"\"\"\n",
        "    if(not isinstance(ratio, collections.abc.Iterable)):\n",
        "        ratio=[ratio]\n",
        "    else:\n",
        "        ratio=list(ratio)\n",
        "    assert len(ratio)>=1\n",
        "    assert \"train_size\" not in kwargs\n",
        "    assert \"test_size\" not in kwargs\n",
        "    while sum(ratio) >= 1:\n",
        "        ratio.pop()\n",
        "    if(len(ratio)==1):\n",
        "        X_train, X_test, y_train, y_test = train_test_split(X, y, train_size=ratio[0], **kwargs)\n",
        "        return [(np.asarray(X_train), np.asarray(y_train))] + [(np.asarray(X_test), np.array(y_test))]\n",
        "    else:\n",
        "        current_ratio = ratio.pop(0)\n",
        "        ratio = [p/(1-current_ratio) for p in ratio]\n",
        "        X_train, X_test, y_train, y_test = train_test_split(X, y, train_size=current_ratio, **kwargs)\n",
        "        return [(np.asarray(X_train), np.asarray(y_train))] + data_split(X_test, y_test, ratio, **kwargs)"
      ],
      "execution_count": 106,
      "outputs": []
    },
    {
      "cell_type": "code",
      "metadata": {
        "id": "8SmVdhCUAAr9",
        "outputId": "4dcee237-177b-4c78-9e20-67f375975dc3",
        "colab": {
          "base_uri": "https://localhost:8080/"
        }
      },
      "source": [
        "# X, y = balance_data(X, y)\n",
        "# print(len(y))\n",
        "trainset, validset, testset = data_split(X, y, ratio=(0.4, 0.3, 0.3))\n",
        "# trainset[0][0]\n",
        "print(len(y))"
      ],
      "execution_count": 124,
      "outputs": [
        {
          "output_type": "stream",
          "text": [
            "10000\n"
          ],
          "name": "stdout"
        }
      ]
    },
    {
      "cell_type": "code",
      "metadata": {
        "id": "3H3t9fqDhMZQ",
        "outputId": "af67195a-b23a-4742-8eb8-552250c6918b",
        "colab": {
          "base_uri": "https://localhost:8080/"
        }
      },
      "source": [
        "s_input = Input(shape=sensors_shape)\n",
        "img_input = Input(shape=image_shape)\n",
        "\n",
        "conv_img_input = Conv2D(32, 5, activation=\"relu\")(img_input)\n",
        "max_conv_img = MaxPool2D((4, 4))(conv_img_input)\n",
        "# conv_max = Conv2D(32, 5, activation=\"relu\")(max_conv_img)\n",
        "# max_conv_max = MaxPool2D((2, 2))(conv_max)\n",
        "flatten = Flatten()(max_conv_img)\n",
        "\n",
        "sensor_dense = Dense(sensors_shape[0]//2)(s_input)\n",
        "\n",
        "layer = Concatenate()([flatten, sensor_dense])\n",
        "# for hl in (512, 32):\n",
        "layer = Dense(512, activation=\"relu\")(layer)\n",
        "# layer = Dropout(0.2)(layer)\n",
        "layer = Dense(32, activation=\"relu\")(layer)\n",
        "z = Dense(class_outputs, activation=\"softmax\")(layer)\n",
        "\n",
        "cnn = Model(inputs=[img_input, s_input], outputs=z)\n",
        "\n",
        "cnn.compile(optimizer='adam',\n",
        "              loss='sparse_categorical_crossentropy',\n",
        "              metrics=['accuracy'])\n",
        "\n",
        "cnn.summary()"
      ],
      "execution_count": 125,
      "outputs": [
        {
          "output_type": "stream",
          "text": [
            "Model: \"functional_15\"\n",
            "__________________________________________________________________________________________________\n",
            "Layer (type)                    Output Shape         Param #     Connected to                     \n",
            "==================================================================================================\n",
            "input_16 (InputLayer)           [(None, 60, 80, 3)]  0                                            \n",
            "__________________________________________________________________________________________________\n",
            "conv2d_7 (Conv2D)               (None, 56, 76, 32)   2432        input_16[0][0]                   \n",
            "__________________________________________________________________________________________________\n",
            "max_pooling2d_7 (MaxPooling2D)  (None, 14, 19, 32)   0           conv2d_7[0][0]                   \n",
            "__________________________________________________________________________________________________\n",
            "input_15 (InputLayer)           [(None, 15)]         0                                            \n",
            "__________________________________________________________________________________________________\n",
            "flatten_7 (Flatten)             (None, 8512)         0           max_pooling2d_7[0][0]            \n",
            "__________________________________________________________________________________________________\n",
            "dense_28 (Dense)                (None, 7)            112         input_15[0][0]                   \n",
            "__________________________________________________________________________________________________\n",
            "concatenate_7 (Concatenate)     (None, 8519)         0           flatten_7[0][0]                  \n",
            "                                                                 dense_28[0][0]                   \n",
            "__________________________________________________________________________________________________\n",
            "dense_29 (Dense)                (None, 512)          4362240     concatenate_7[0][0]              \n",
            "__________________________________________________________________________________________________\n",
            "dense_30 (Dense)                (None, 32)           16416       dense_29[0][0]                   \n",
            "__________________________________________________________________________________________________\n",
            "dense_31 (Dense)                (None, 8)            264         dense_30[0][0]                   \n",
            "==================================================================================================\n",
            "Total params: 4,381,464\n",
            "Trainable params: 4,381,464\n",
            "Non-trainable params: 0\n",
            "__________________________________________________________________________________________________\n"
          ],
          "name": "stdout"
        }
      ]
    },
    {
      "cell_type": "code",
      "metadata": {
        "id": "7MnmhNGIEZdR"
      },
      "source": [
        "X_trainset_img = np.asarray(list(zip(*list(trainset[0])))[0])\n",
        "X_trainset_sensors = np.asarray(list(zip(*list(trainset[0])))[1])\n",
        "X_validset_img = np.asarray(list(zip(*list(validset[0])))[0])\n",
        "X_validset_sensors = np.asarray(list(zip(*list(validset[0])))[1])\n",
        "X_testset_img = np.asarray(list(zip(*list(testset[0])))[0])\n",
        "X_testset_sensors = np.asarray(list(zip(*list(testset[0])))[1])\n",
        "\n",
        "# print(X_trainset_img.shape)\n",
        "# print(X_trainset_sensors.shape)\n",
        "# print(X_validset_img.shape)\n",
        "# print(X_validset_sensors.shape)\n",
        "# print(X_testset_img.shape)\n",
        "# print(X_testset_sensors.shape)"
      ],
      "execution_count": 126,
      "outputs": []
    },
    {
      "cell_type": "code",
      "metadata": {
        "id": "K2K8saBcTBm-",
        "outputId": "0fff58d5-cec2-4fe7-aa45-1d81eb88d556",
        "colab": {
          "base_uri": "https://localhost:8080/"
        }
      },
      "source": [
        "history = cnn.fit([X_trainset_img, X_trainset_sensors], \n",
        "                  trainset[1],\n",
        "                  validation_data=([X_validset_img, X_validset_sensors], validset[1]),\n",
        "                  #batch_size=75,\n",
        "                    epochs=6)\n",
        "\n",
        "predictions = cnn.predict([X_testset_img, X_testset_sensors])\n",
        "cnn.evaluate([X_testset_img, X_testset_sensors],  testset[1], verbose=2)"
      ],
      "execution_count": 128,
      "outputs": [
        {
          "output_type": "stream",
          "text": [
            "Epoch 1/6\n",
            "125/125 [==============================] - 21s 165ms/step - loss: 0.7959 - accuracy: 0.7310 - val_loss: 0.4742 - val_accuracy: 0.8480\n",
            "Epoch 2/6\n",
            "125/125 [==============================] - 21s 164ms/step - loss: 0.4896 - accuracy: 0.8475 - val_loss: 0.3138 - val_accuracy: 0.9440\n",
            "Epoch 3/6\n",
            "125/125 [==============================] - 20s 164ms/step - loss: 0.1955 - accuracy: 0.9582 - val_loss: 0.1537 - val_accuracy: 0.9667\n",
            "Epoch 4/6\n",
            "125/125 [==============================] - 20s 164ms/step - loss: 0.1440 - accuracy: 0.9678 - val_loss: 0.1440 - val_accuracy: 0.9700\n",
            "Epoch 5/6\n",
            "125/125 [==============================] - 20s 163ms/step - loss: 0.1194 - accuracy: 0.9768 - val_loss: 0.2905 - val_accuracy: 0.9487\n",
            "Epoch 6/6\n",
            "125/125 [==============================] - 25s 198ms/step - loss: 0.1252 - accuracy: 0.9800 - val_loss: 0.2014 - val_accuracy: 0.9563\n",
            "94/94 - 4s - loss: 0.2350 - accuracy: 0.9540\n"
          ],
          "name": "stdout"
        },
        {
          "output_type": "execute_result",
          "data": {
            "text/plain": [
              "[0.23502184450626373, 0.9539999961853027]"
            ]
          },
          "metadata": {
            "tags": []
          },
          "execution_count": 128
        }
      ]
    },
    {
      "cell_type": "code",
      "metadata": {
        "id": "FluTfFr0WuJh",
        "outputId": "90f47e19-eb67-40d2-eff8-c6cf88080056",
        "colab": {
          "base_uri": "https://localhost:8080/",
          "height": 573
        }
      },
      "source": [
        "acc = history.history['accuracy']\n",
        "val_acc = history.history['val_accuracy']\n",
        "loss = history.history['loss']\n",
        "val_loss = history.history['val_loss']\n",
        "\n",
        "epochs = range(1, len(acc) + 1)\n",
        "\n",
        "\n",
        "plt.plot(epochs, loss, 'bo', label='Training loss')\n",
        "plt.plot(epochs, val_loss, 'b', label='Validation loss')\n",
        "plt.title('Training and validation loss')\n",
        "plt.xlabel('Epochs')\n",
        "plt.ylabel('Loss')\n",
        "plt.legend()\n",
        "\n",
        "plt.figure()\n",
        "\n",
        "plt.plot(epochs, acc, 'bo', label='Training acc')\n",
        "plt.plot(epochs, val_acc, 'b', label='Validation acc')\n",
        "plt.title('Training and validation accuracy')\n",
        "plt.xlabel('Epochs')\n",
        "plt.ylabel('Accuracy')\n",
        "plt.legend()\n",
        "\n",
        "plt.show()\n",
        "i=0"
      ],
      "execution_count": 122,
      "outputs": [
        {
          "output_type": "display_data",
          "data": {
            "image/png": "[encoded data removed]",
            "text/plain": [
              "<Figure size 432x288 with 1 Axes>"
            ]
          },
          "metadata": {
            "tags": [],
            "needs_background": "light"
          }
        },
        {
          "output_type": "display_data",
          "data": {
            "image/png": "[encoded data removed]",
            "text/plain": [
              "<Figure size 432x288 with 1 Axes>"
            ]
          },
          "metadata": {
            "tags": [],
            "needs_background": "light"
          }
        }
      ]
    },
    {
      "cell_type": "code",
      "metadata": {
        "id": "PC4EpRwkpHYZ"
      },
      "source": [
        "def plot_image(i, predictions_array, true_label, img):\n",
        "  predictions_array, true_label, img = predictions_array, true_label[i], img[i]\n",
        "  plt.grid(False)\n",
        "  plt.xticks([])\n",
        "  plt.yticks([])\n",
        "\n",
        "  plt.imshow(img[:,:,::-1])\n",
        "\n",
        "  predicted_label = np.argmax(predictions_array)\n",
        "  if predicted_label == true_label:\n",
        "    color = 'blue'\n",
        "  else:\n",
        "    color = 'red'\n",
        "\n",
        "  plt.xlabel(\"{} {:2.0f}% (True: {})\".format(class_names[predicted_label],\n",
        "                                100*np.max(predictions_array),\n",
        "                                class_names[true_label]),\n",
        "                                color=color)\n",
        "\n",
        "def plot_value_array(i, predictions_array, true_label):\n",
        "  predictions_array, true_label = predictions_array, true_label[i]\n",
        "  plt.grid(False)\n",
        "  plt.xticks(range(class_outputs))\n",
        "  plt.yticks([])\n",
        "  thisplot = plt.bar(range(class_outputs), predictions_array, color=\"#777777\")\n",
        "  plt.ylim([0, 1])\n",
        "  predicted_label = np.argmax(predictions_array)\n",
        "\n",
        "  thisplot[predicted_label].set_color('red')\n",
        "  thisplot[true_label].set_color('blue')"
      ],
      "execution_count": 76,
      "outputs": []
    },
    {
      "cell_type": "code",
      "metadata": {
        "id": "zluZgWHfpL5p",
        "outputId": "9ed4cc5d-15ff-4a05-9273-fe73725e1a21",
        "colab": {
          "base_uri": "https://localhost:8080/",
          "height": 211
        }
      },
      "source": [
        "i += 1\n",
        "plt.figure(figsize=(8,3))\n",
        "plt.subplot(1,2,1)\n",
        "plot_image(i, predictions[i], testset[1], X_testset_img)\n",
        "plt.subplot(1,2,2)\n",
        "plot_value_array(i, predictions[i],  testset[1])\n",
        "plt.show()"
      ],
      "execution_count": 77,
      "outputs": [
        {
          "output_type": "display_data",
          "data": {
            "image/png": "[encoded data removed]",
            "text/plain": [
              "<Figure size 576x216 with 2 Axes>"
            ]
          },
          "metadata": {
            "tags": [],
            "needs_background": "light"
          }
        }
      ]
    },
    {
      "cell_type": "code",
      "metadata": {
        "id": "3_Q8d8o_0ytm",
        "outputId": "423f5668-b56e-4470-e929-1cad5de5195a",
        "colab": {
          "base_uri": "https://localhost:8080/",
          "height": 633
        }
      },
      "source": [
        "plt.title(\"fails by categories\")\n",
        "plt.hist(testset[1][np.where(np.argmax(predictions, axis=1)!=testset[1])], bins=np.arange(9)-0.5)\n",
        "plt.xticks(np.arange(8), class_names, rotation=55)\n",
        "\n",
        "plt.figure()\n",
        "plt.title(\"fails by categories\")\n",
        "plt.hist(np.argmax(predictions[np.where(np.argmax(predictions, axis=1)!=testset[1])], axis=1), bins=np.arange(9)-0.5)\n",
        "plt.xticks(np.arange(8), class_names, rotation=55)\n",
        "\n",
        "print()"
      ],
      "execution_count": 117,
      "outputs": [
        {
          "output_type": "stream",
          "text": [
            "\n"
          ],
          "name": "stdout"
        },
        {
          "output_type": "display_data",
          "data": {
            "image/png": "[encoded data removed]",
            "text/plain": [
              "<Figure size 432x288 with 1 Axes>"
            ]
          },
          "metadata": {
            "tags": [],
            "needs_background": "light"
          }
        },
        {
          "output_type": "display_data",
          "data": {
            "image/png": "[encoded data removed]",
            "text/plain": [
              "<Figure size 432x288 with 1 Axes>"
            ]
          },
          "metadata": {
            "tags": [],
            "needs_background": "light"
          }
        }
      ]
    }
  ]
}